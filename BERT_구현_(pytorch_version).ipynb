{
  "cells": [
    {
      "cell_type": "markdown",
      "metadata": {
        "id": "YKpnANVbIu92"
      },
      "source": [
        "# 설치"
      ]
    },
    {
      "cell_type": "code",
      "execution_count": 1,
      "metadata": {
        "colab": {
          "base_uri": "https://localhost:8080/"
        },
        "id": "T4RNWs1wj0tv",
        "outputId": "43e5daf2-9eef-45f0-9b19-11e101b6153a"
      },
      "outputs": [
        {
          "output_type": "stream",
          "name": "stdout",
          "text": [
            "Looking in indexes: https://pypi.org/simple, https://us-python.pkg.dev/colab-wheels/public/simple/\n",
            "Requirement already satisfied: Korpora in /usr/local/lib/python3.8/dist-packages (0.2.0)\n",
            "Requirement already satisfied: dataclasses>=0.6 in /usr/local/lib/python3.8/dist-packages (from Korpora) (0.6)\n",
            "Requirement already satisfied: xlrd>=1.2.0 in /usr/local/lib/python3.8/dist-packages (from Korpora) (1.2.0)\n",
            "Requirement already satisfied: requests>=2.20.0 in /usr/local/lib/python3.8/dist-packages (from Korpora) (2.25.1)\n",
            "Requirement already satisfied: tqdm>=4.46.0 in /usr/local/lib/python3.8/dist-packages (from Korpora) (4.64.1)\n",
            "Requirement already satisfied: numpy>=1.18.0 in /usr/local/lib/python3.8/dist-packages (from Korpora) (1.21.6)\n",
            "Requirement already satisfied: urllib3<1.27,>=1.21.1 in /usr/local/lib/python3.8/dist-packages (from requests>=2.20.0->Korpora) (1.24.3)\n",
            "Requirement already satisfied: idna<3,>=2.5 in /usr/local/lib/python3.8/dist-packages (from requests>=2.20.0->Korpora) (2.10)\n",
            "Requirement already satisfied: certifi>=2017.4.17 in /usr/local/lib/python3.8/dist-packages (from requests>=2.20.0->Korpora) (2022.12.7)\n",
            "Requirement already satisfied: chardet<5,>=3.0.2 in /usr/local/lib/python3.8/dist-packages (from requests>=2.20.0->Korpora) (4.0.0)\n",
            "Looking in indexes: https://pypi.org/simple, https://us-python.pkg.dev/colab-wheels/public/simple/\n",
            "Requirement already satisfied: tokenizers in /usr/local/lib/python3.8/dist-packages (0.13.2)\n",
            "Looking in indexes: https://pypi.org/simple, https://us-python.pkg.dev/colab-wheels/public/simple/\n",
            "Requirement already satisfied: transformers[sentencepiece] in /usr/local/lib/python3.8/dist-packages (4.26.1)\n",
            "Requirement already satisfied: filelock in /usr/local/lib/python3.8/dist-packages (from transformers[sentencepiece]) (3.9.0)\n",
            "Requirement already satisfied: requests in /usr/local/lib/python3.8/dist-packages (from transformers[sentencepiece]) (2.25.1)\n",
            "Requirement already satisfied: huggingface-hub<1.0,>=0.11.0 in /usr/local/lib/python3.8/dist-packages (from transformers[sentencepiece]) (0.12.0)\n",
            "Requirement already satisfied: tokenizers!=0.11.3,<0.14,>=0.11.1 in /usr/local/lib/python3.8/dist-packages (from transformers[sentencepiece]) (0.13.2)\n",
            "Requirement already satisfied: regex!=2019.12.17 in /usr/local/lib/python3.8/dist-packages (from transformers[sentencepiece]) (2022.6.2)\n",
            "Requirement already satisfied: tqdm>=4.27 in /usr/local/lib/python3.8/dist-packages (from transformers[sentencepiece]) (4.64.1)\n",
            "Requirement already satisfied: packaging>=20.0 in /usr/local/lib/python3.8/dist-packages (from transformers[sentencepiece]) (23.0)\n",
            "Requirement already satisfied: numpy>=1.17 in /usr/local/lib/python3.8/dist-packages (from transformers[sentencepiece]) (1.21.6)\n",
            "Requirement already satisfied: pyyaml>=5.1 in /usr/local/lib/python3.8/dist-packages (from transformers[sentencepiece]) (6.0)\n",
            "Requirement already satisfied: sentencepiece!=0.1.92,>=0.1.91 in /usr/local/lib/python3.8/dist-packages (from transformers[sentencepiece]) (0.1.97)\n",
            "Requirement already satisfied: protobuf<=3.20.2 in /usr/local/lib/python3.8/dist-packages (from transformers[sentencepiece]) (3.19.6)\n",
            "Requirement already satisfied: typing-extensions>=3.7.4.3 in /usr/local/lib/python3.8/dist-packages (from huggingface-hub<1.0,>=0.11.0->transformers[sentencepiece]) (4.4.0)\n",
            "Requirement already satisfied: idna<3,>=2.5 in /usr/local/lib/python3.8/dist-packages (from requests->transformers[sentencepiece]) (2.10)\n",
            "Requirement already satisfied: urllib3<1.27,>=1.21.1 in /usr/local/lib/python3.8/dist-packages (from requests->transformers[sentencepiece]) (1.24.3)\n",
            "Requirement already satisfied: certifi>=2017.4.17 in /usr/local/lib/python3.8/dist-packages (from requests->transformers[sentencepiece]) (2022.12.7)\n",
            "Requirement already satisfied: chardet<5,>=3.0.2 in /usr/local/lib/python3.8/dist-packages (from requests->transformers[sentencepiece]) (4.0.0)\n"
          ]
        }
      ],
      "source": [
        "! pip install Korpora\n",
        "! pip install tokenizers\n",
        "! pip install transformers[sentencepiece]"
      ]
    },
    {
      "cell_type": "markdown",
      "metadata": {
        "id": "uXzW3ei9SLJQ"
      },
      "source": [
        "# dataset download(청와대 국민청원)"
      ]
    },
    {
      "cell_type": "code",
      "execution_count": 2,
      "metadata": {
        "colab": {
          "base_uri": "https://localhost:8080/"
        },
        "id": "oZC2yfeMXUoH",
        "outputId": "1d2253bc-cafa-442d-8a4d-bc80f35f7592"
      },
      "outputs": [
        {
          "output_type": "stream",
          "name": "stdout",
          "text": [
            "Drive already mounted at /content/drive; to attempt to forcibly remount, call drive.mount(\"/content/drive\", force_remount=True).\n"
          ]
        }
      ],
      "source": [
        "from google.colab import drive\n",
        "drive.mount('/content/drive')"
      ]
    },
    {
      "cell_type": "code",
      "execution_count": 3,
      "metadata": {
        "colab": {
          "base_uri": "https://localhost:8080/"
        },
        "id": "9HqA138iihtF",
        "outputId": "79dedbd6-4bca-481c-d46c-a82beecac7e2"
      },
      "outputs": [
        {
          "output_type": "stream",
          "name": "stdout",
          "text": [
            "\n",
            "    Korpora 는 다른 분들이 연구 목적으로 공유해주신 말뭉치들을\n",
            "    손쉽게 다운로드, 사용할 수 있는 기능만을 제공합니다.\n",
            "\n",
            "    말뭉치들을 공유해 주신 분들에게 감사드리며, 각 말뭉치 별 설명과 라이센스를 공유 드립니다.\n",
            "    해당 말뭉치에 대해 자세히 알고 싶으신 분은 아래의 description 을 참고,\n",
            "    해당 말뭉치를 연구/상용의 목적으로 이용하실 때에는 아래의 라이센스를 참고해 주시기 바랍니다.\n",
            "\n",
            "    # Description\n",
            "    Author : Hyunjoong Kim lovit@github\n",
            "    Repository : https://github.com/lovit/petitions_archive\n",
            "    References :\n",
            "\n",
            "    청와대 국민청원 게시판의 데이터를 월별로 수집한 것입니다.\n",
            "    청원은 게시판에 글을 올린 뒤, 한달 간 청원이 진행됩니다.\n",
            "    수집되는 데이터는 청원종료가 된 이후의 데이터이며, 청원 내 댓글은 수집되지 않습니다.\n",
            "    단 청원의 동의 개수는 수집됩니다.\n",
            "    자세한 내용은 위의 repository를 참고하세요.\n",
            "\n",
            "    # License\n",
            "    CC0 1.0 Universal (CC0 1.0) Public Domain Dedication\n",
            "    Details in https://creativecommons.org/publicdomain/zero/1.0/\n",
            "\n",
            "[Korpora] Corpus `korean_petitions` is already installed at /root/Korpora/korean_petitions/petitions_2017-08\n",
            "[Korpora] Corpus `korean_petitions` is already installed at /root/Korpora/korean_petitions/petitions_2017-09\n",
            "[Korpora] Corpus `korean_petitions` is already installed at /root/Korpora/korean_petitions/petitions_2017-10\n",
            "[Korpora] Corpus `korean_petitions` is already installed at /root/Korpora/korean_petitions/petitions_2017-11\n",
            "[Korpora] Corpus `korean_petitions` is already installed at /root/Korpora/korean_petitions/petitions_2017-12\n",
            "[Korpora] Corpus `korean_petitions` is already installed at /root/Korpora/korean_petitions/petitions_2018-01\n",
            "[Korpora] Corpus `korean_petitions` is already installed at /root/Korpora/korean_petitions/petitions_2018-02\n",
            "[Korpora] Corpus `korean_petitions` is already installed at /root/Korpora/korean_petitions/petitions_2018-03\n",
            "[Korpora] Corpus `korean_petitions` is already installed at /root/Korpora/korean_petitions/petitions_2018-04\n",
            "[Korpora] Corpus `korean_petitions` is already installed at /root/Korpora/korean_petitions/petitions_2018-05\n",
            "[Korpora] Corpus `korean_petitions` is already installed at /root/Korpora/korean_petitions/petitions_2018-06\n",
            "[Korpora] Corpus `korean_petitions` is already installed at /root/Korpora/korean_petitions/petitions_2018-07\n",
            "[Korpora] Corpus `korean_petitions` is already installed at /root/Korpora/korean_petitions/petitions_2018-08\n",
            "[Korpora] Corpus `korean_petitions` is already installed at /root/Korpora/korean_petitions/petitions_2018-09\n",
            "[Korpora] Corpus `korean_petitions` is already installed at /root/Korpora/korean_petitions/petitions_2018-10\n",
            "[Korpora] Corpus `korean_petitions` is already installed at /root/Korpora/korean_petitions/petitions_2018-11\n",
            "[Korpora] Corpus `korean_petitions` is already installed at /root/Korpora/korean_petitions/petitions_2018-12\n",
            "[Korpora] Corpus `korean_petitions` is already installed at /root/Korpora/korean_petitions/petitions_2019-01\n",
            "[Korpora] Corpus `korean_petitions` is already installed at /root/Korpora/korean_petitions/petitions_2019-02\n",
            "[Korpora] Corpus `korean_petitions` is already installed at /root/Korpora/korean_petitions/petitions_2019-03\n"
          ]
        }
      ],
      "source": [
        "from Korpora import Korpora\n",
        "corpus = Korpora.load(\"korean_petitions\")"
      ]
    },
    {
      "cell_type": "markdown",
      "metadata": {
        "id": "4S9l4TX2RLX4"
      },
      "source": [
        "##### text 전처리"
      ]
    },
    {
      "cell_type": "code",
      "execution_count": 4,
      "metadata": {
        "id": "sEuFEIGOih2G"
      },
      "outputs": [],
      "source": [
        "import re\n",
        "\n",
        "def clean_text(text):\n",
        "  filter = r'[^가-힣0-9a-zA-Z.,?!/ ]'\n",
        "  text = text.replace('?','.')\n",
        "  text = text.replace('!','.')\n",
        "  return re.sub(filter, '', text)"
      ]
    },
    {
      "cell_type": "code",
      "execution_count": 5,
      "metadata": {
        "colab": {
          "base_uri": "https://localhost:8080/"
        },
        "id": "v52Tkh6e08vN",
        "outputId": "0b44a602-f44e-4656-846f-2b967ee54a95"
      },
      "outputs": [
        {
          "output_type": "execute_result",
          "data": {
            "text/plain": [
              "433631"
            ]
          },
          "metadata": {},
          "execution_count": 5
        }
      ],
      "source": [
        "len(corpus.train)"
      ]
    },
    {
      "cell_type": "code",
      "execution_count": 6,
      "metadata": {
        "id": "ZLsAByyw2gEf"
      },
      "outputs": [],
      "source": [
        "def length_limit(lists):\n",
        "  new_list = []\n",
        "  for sequence in lists:\n",
        "    if len(sequence) > 3:\n",
        "      new_list.append(sequence)\n",
        "  return new_list"
      ]
    },
    {
      "cell_type": "markdown",
      "metadata": {
        "id": "fPFkfajDROXg"
      },
      "source": [
        "##### next sentence prediction (sentence pair, labels)"
      ]
    },
    {
      "cell_type": "code",
      "execution_count": 7,
      "metadata": {
        "id": "fctAzmX-01GG"
      },
      "outputs": [],
      "source": [
        "def nsp_datasets(corpus):\n",
        "  sentence_pair = []\n",
        "  is_next = []\n",
        "  for corpus_index in range(len(corpus.train)):\n",
        "    sentence_list = clean_text(corpus.train[corpus_index].text).split('. ')\n",
        "    sequence_list = length_limit(sentence_list)\n",
        "    for sequence_index in range(len(sequence_list)):\n",
        "      if corpus_index <= int(len(corpus.train)/2): # is_next = True\n",
        "        try: \n",
        "          pair = sequence_list[2*sequence_index] + ' [SEP] ' + sequence_list[2*sequence_index+1]\n",
        "          sentence_pair.append(pair)\n",
        "          is_next.append(0)\n",
        "        except:\n",
        "          continue\n",
        "\n",
        "      else: # is_next = False\n",
        "        try:\n",
        "          pair = sequence_list[2*sequence_index+1] + ' [SEP] ' + sequence_list[2*sequence_index] # 구현의 편의를 위해 순서만 바꿈(SOP loss - albert)\n",
        "          sentence_pair.append(pair)\n",
        "          is_next.append(1)\n",
        "        except:\n",
        "          continue\n",
        "  return sentence_pair, is_next\n"
      ]
    },
    {
      "cell_type": "code",
      "execution_count": 8,
      "metadata": {
        "colab": {
          "base_uri": "https://localhost:8080/",
          "height": 363
        },
        "id": "iT5iyUZE5hCN",
        "outputId": "0a83412a-c0bf-4afd-ceb2-2812ddb20aa1"
      },
      "outputs": [
        {
          "output_type": "execute_result",
          "data": {
            "text/plain": [
              "                                       sentence_pair  is_next\n",
              "0  정말로 도로침하 때문에 안전적으로 위험해서 전력선포설공사를 못하시게 하는 것이 맞나...        0\n",
              "1   공무원이 국가, 국민돈을 먹튀했다면 그 값에서 1015의 범죄부가세를 도입하면 됩...        1\n",
              "2  안녕하십니까, 2019학년도 수능 응시 예정인 고3 학생입니다 [SEP] 이 글은 ...        0\n",
              "3  11 더 자세한 것은 대한민국의 여성인권단체/목록의 목차 중 한국여성민우회 항목 참...        1\n",
              "4  예수의 원수사랑은 오지 로마에 한정되었을 따름이었다 [SEP] 예수가 원수를 사랑하...        1\n",
              "5  국민혈세 마구 써제끼며, 선심쓰는 현정권도 파면해야 합니까 [SEP] 파면해야 할 ...        0\n",
              "6  저분 원금이 얼마셨는지는 모르겠지만, 20년동안 24억이라는 세금을 내시고, 36억...        1\n",
              "7   국방부장관 또는 행정안전부장관은 제2항 또는 제3항에 해당하는 사유가 발생한 경우...        1\n",
              "8   그리고 주인은 국민들을 위해 부품공장하나도 허용하지 않는다 [SEP] 주총에서 반대한다        0\n",
              "9                 감사합니다. [SEP] 모두가 함께 잘 살 수 있기를 바랍니다        1"
            ],
            "text/html": [
              "\n",
              "  <div id=\"df-313ed05f-6142-4454-8388-e5dd095991a4\">\n",
              "    <div class=\"colab-df-container\">\n",
              "      <div>\n",
              "<style scoped>\n",
              "    .dataframe tbody tr th:only-of-type {\n",
              "        vertical-align: middle;\n",
              "    }\n",
              "\n",
              "    .dataframe tbody tr th {\n",
              "        vertical-align: top;\n",
              "    }\n",
              "\n",
              "    .dataframe thead th {\n",
              "        text-align: right;\n",
              "    }\n",
              "</style>\n",
              "<table border=\"1\" class=\"dataframe\">\n",
              "  <thead>\n",
              "    <tr style=\"text-align: right;\">\n",
              "      <th></th>\n",
              "      <th>sentence_pair</th>\n",
              "      <th>is_next</th>\n",
              "    </tr>\n",
              "  </thead>\n",
              "  <tbody>\n",
              "    <tr>\n",
              "      <th>0</th>\n",
              "      <td>정말로 도로침하 때문에 안전적으로 위험해서 전력선포설공사를 못하시게 하는 것이 맞나...</td>\n",
              "      <td>0</td>\n",
              "    </tr>\n",
              "    <tr>\n",
              "      <th>1</th>\n",
              "      <td>공무원이 국가, 국민돈을 먹튀했다면 그 값에서 1015의 범죄부가세를 도입하면 됩...</td>\n",
              "      <td>1</td>\n",
              "    </tr>\n",
              "    <tr>\n",
              "      <th>2</th>\n",
              "      <td>안녕하십니까, 2019학년도 수능 응시 예정인 고3 학생입니다 [SEP] 이 글은 ...</td>\n",
              "      <td>0</td>\n",
              "    </tr>\n",
              "    <tr>\n",
              "      <th>3</th>\n",
              "      <td>11 더 자세한 것은 대한민국의 여성인권단체/목록의 목차 중 한국여성민우회 항목 참...</td>\n",
              "      <td>1</td>\n",
              "    </tr>\n",
              "    <tr>\n",
              "      <th>4</th>\n",
              "      <td>예수의 원수사랑은 오지 로마에 한정되었을 따름이었다 [SEP] 예수가 원수를 사랑하...</td>\n",
              "      <td>1</td>\n",
              "    </tr>\n",
              "    <tr>\n",
              "      <th>5</th>\n",
              "      <td>국민혈세 마구 써제끼며, 선심쓰는 현정권도 파면해야 합니까 [SEP] 파면해야 할 ...</td>\n",
              "      <td>0</td>\n",
              "    </tr>\n",
              "    <tr>\n",
              "      <th>6</th>\n",
              "      <td>저분 원금이 얼마셨는지는 모르겠지만, 20년동안 24억이라는 세금을 내시고, 36억...</td>\n",
              "      <td>1</td>\n",
              "    </tr>\n",
              "    <tr>\n",
              "      <th>7</th>\n",
              "      <td>국방부장관 또는 행정안전부장관은 제2항 또는 제3항에 해당하는 사유가 발생한 경우...</td>\n",
              "      <td>1</td>\n",
              "    </tr>\n",
              "    <tr>\n",
              "      <th>8</th>\n",
              "      <td>그리고 주인은 국민들을 위해 부품공장하나도 허용하지 않는다 [SEP] 주총에서 반대한다</td>\n",
              "      <td>0</td>\n",
              "    </tr>\n",
              "    <tr>\n",
              "      <th>9</th>\n",
              "      <td>감사합니다. [SEP] 모두가 함께 잘 살 수 있기를 바랍니다</td>\n",
              "      <td>1</td>\n",
              "    </tr>\n",
              "  </tbody>\n",
              "</table>\n",
              "</div>\n",
              "      <button class=\"colab-df-convert\" onclick=\"convertToInteractive('df-313ed05f-6142-4454-8388-e5dd095991a4')\"\n",
              "              title=\"Convert this dataframe to an interactive table.\"\n",
              "              style=\"display:none;\">\n",
              "        \n",
              "  <svg xmlns=\"http://www.w3.org/2000/svg\" height=\"24px\"viewBox=\"0 0 24 24\"\n",
              "       width=\"24px\">\n",
              "    <path d=\"M0 0h24v24H0V0z\" fill=\"none\"/>\n",
              "    <path d=\"M18.56 5.44l.94 2.06.94-2.06 2.06-.94-2.06-.94-.94-2.06-.94 2.06-2.06.94zm-11 1L8.5 8.5l.94-2.06 2.06-.94-2.06-.94L8.5 2.5l-.94 2.06-2.06.94zm10 10l.94 2.06.94-2.06 2.06-.94-2.06-.94-.94-2.06-.94 2.06-2.06.94z\"/><path d=\"M17.41 7.96l-1.37-1.37c-.4-.4-.92-.59-1.43-.59-.52 0-1.04.2-1.43.59L10.3 9.45l-7.72 7.72c-.78.78-.78 2.05 0 2.83L4 21.41c.39.39.9.59 1.41.59.51 0 1.02-.2 1.41-.59l7.78-7.78 2.81-2.81c.8-.78.8-2.07 0-2.86zM5.41 20L4 18.59l7.72-7.72 1.47 1.35L5.41 20z\"/>\n",
              "  </svg>\n",
              "      </button>\n",
              "      \n",
              "  <style>\n",
              "    .colab-df-container {\n",
              "      display:flex;\n",
              "      flex-wrap:wrap;\n",
              "      gap: 12px;\n",
              "    }\n",
              "\n",
              "    .colab-df-convert {\n",
              "      background-color: #E8F0FE;\n",
              "      border: none;\n",
              "      border-radius: 50%;\n",
              "      cursor: pointer;\n",
              "      display: none;\n",
              "      fill: #1967D2;\n",
              "      height: 32px;\n",
              "      padding: 0 0 0 0;\n",
              "      width: 32px;\n",
              "    }\n",
              "\n",
              "    .colab-df-convert:hover {\n",
              "      background-color: #E2EBFA;\n",
              "      box-shadow: 0px 1px 2px rgba(60, 64, 67, 0.3), 0px 1px 3px 1px rgba(60, 64, 67, 0.15);\n",
              "      fill: #174EA6;\n",
              "    }\n",
              "\n",
              "    [theme=dark] .colab-df-convert {\n",
              "      background-color: #3B4455;\n",
              "      fill: #D2E3FC;\n",
              "    }\n",
              "\n",
              "    [theme=dark] .colab-df-convert:hover {\n",
              "      background-color: #434B5C;\n",
              "      box-shadow: 0px 1px 3px 1px rgba(0, 0, 0, 0.15);\n",
              "      filter: drop-shadow(0px 1px 2px rgba(0, 0, 0, 0.3));\n",
              "      fill: #FFFFFF;\n",
              "    }\n",
              "  </style>\n",
              "\n",
              "      <script>\n",
              "        const buttonEl =\n",
              "          document.querySelector('#df-313ed05f-6142-4454-8388-e5dd095991a4 button.colab-df-convert');\n",
              "        buttonEl.style.display =\n",
              "          google.colab.kernel.accessAllowed ? 'block' : 'none';\n",
              "\n",
              "        async function convertToInteractive(key) {\n",
              "          const element = document.querySelector('#df-313ed05f-6142-4454-8388-e5dd095991a4');\n",
              "          const dataTable =\n",
              "            await google.colab.kernel.invokeFunction('convertToInteractive',\n",
              "                                                     [key], {});\n",
              "          if (!dataTable) return;\n",
              "\n",
              "          const docLinkHtml = 'Like what you see? Visit the ' +\n",
              "            '<a target=\"_blank\" href=https://colab.research.google.com/notebooks/data_table.ipynb>data table notebook</a>'\n",
              "            + ' to learn more about interactive tables.';\n",
              "          element.innerHTML = '';\n",
              "          dataTable['output_type'] = 'display_data';\n",
              "          await google.colab.output.renderOutput(dataTable, element);\n",
              "          const docLink = document.createElement('div');\n",
              "          docLink.innerHTML = docLinkHtml;\n",
              "          element.appendChild(docLink);\n",
              "        }\n",
              "      </script>\n",
              "    </div>\n",
              "  </div>\n",
              "  "
            ]
          },
          "metadata": {},
          "execution_count": 8
        }
      ],
      "source": [
        "import pandas as pd\n",
        "\n",
        "s_pair, is_n = nsp_datasets(corpus)\n",
        "data = pd.DataFrame()\n",
        "data['sentence_pair'] = s_pair\n",
        "data['is_next'] = is_n\n",
        "data = data.sample(frac=1).reset_index(drop=True)\n",
        "data.head(10)"
      ]
    },
    {
      "cell_type": "code",
      "execution_count": 9,
      "metadata": {
        "colab": {
          "base_uri": "https://localhost:8080/"
        },
        "id": "uDruDAHZ7ds3",
        "outputId": "0b74b58d-7730-4339-a5fb-4ebcd7bd5114"
      },
      "outputs": [
        {
          "output_type": "execute_result",
          "data": {
            "text/plain": [
              "1    863655\n",
              "0    803515\n",
              "Name: is_next, dtype: int64"
            ]
          },
          "metadata": {},
          "execution_count": 9
        }
      ],
      "source": [
        "data.is_next.value_counts()"
      ]
    },
    {
      "cell_type": "markdown",
      "metadata": {
        "id": "Waw2kcsVVOle"
      },
      "source": [
        "## wordpiece tokenizer"
      ]
    },
    {
      "cell_type": "code",
      "execution_count": null,
      "metadata": {
        "id": "IucW8OLLJpBf"
      },
      "outputs": [],
      "source": [
        "with open('/content/drive/MyDrive/Colab Notebooks/데이터사이언스 특론/실습/wiki.txt', 'w', encoding='utf8') as f:\n",
        "    f.write('\\n'.join(data['sentence_pair']))"
      ]
    },
    {
      "cell_type": "code",
      "execution_count": null,
      "metadata": {
        "id": "7a2NwtEgKG1v"
      },
      "outputs": [],
      "source": [
        "from tokenizers import BertWordPieceTokenizer\n",
        "\n",
        "data_file = '/content/drive/MyDrive/Colab Notebooks/데이터사이언스 특론/실습/wiki.txt'\n",
        "vocab_size = 30000\n",
        "limit_alphabet = 6000 # 합 전의 초기 토큰의 허용 개수\n",
        "min_frequency = 5\n",
        "\n",
        "tokenizer = BertWordPieceTokenizer(\n",
        "    strip_accents=False, # True일 경우 악센트 제거.\n",
        "    lowercase=False, # 대소문자를 구분 여부 True일 경우 구분 x\n",
        "    wordpieces_prefix=\"##\"\n",
        ")\n",
        "\n",
        "tokenizer.train(files=data_file,\n",
        "                vocab_size=vocab_size,\n",
        "                limit_alphabet=limit_alphabet,\n",
        "                min_frequency=min_frequency)"
      ]
    },
    {
      "cell_type": "code",
      "execution_count": null,
      "metadata": {
        "id": "De54pfFkKykQ"
      },
      "outputs": [],
      "source": [
        "import numpy as np\n",
        "\n",
        "vocab_dir = '/content/drive/MyDrive/Colab Notebooks/데이터사이언스 특론/실습/vocab.txt'\n",
        "\n",
        "# tokenizer에서 vocab 가져오기\n",
        "vocab = tokenizer.get_vocab()\n",
        "\n",
        "# index 번호에 맞게 정렬\n",
        "vocabulary = [[v, k] for k, v in vocab.items()]\n",
        "vocabulary = sorted(vocabulary)\n",
        "vocabulary = list(np.array(vocabulary)[:, 1])\n",
        "\n",
        "# vocabulary 저장\n",
        "with open(vocab_dir, 'w+') as lf:\n",
        "    lf.write('\\n'.join(vocabulary))"
      ]
    },
    {
      "cell_type": "code",
      "execution_count": 10,
      "metadata": {
        "colab": {
          "base_uri": "https://localhost:8080/"
        },
        "id": "8ulqQZ65WDzW",
        "outputId": "ac8e44b8-fadf-43aa-8d61-13868a7d9249"
      },
      "outputs": [
        {
          "output_type": "stream",
          "name": "stderr",
          "text": [
            "/usr/local/lib/python3.8/dist-packages/transformers/tokenization_utils_base.py:1706: FutureWarning: Calling BertTokenizer.from_pretrained() with the path to a single file or url is deprecated and won't be possible anymore in v5. Use a model identifier or the path to a directory instead.\n",
            "  warnings.warn(\n"
          ]
        }
      ],
      "source": [
        "from transformers import BertTokenizer\n",
        "\n",
        "wordpiece_tokenizer = BertTokenizer.from_pretrained('/content/drive/MyDrive/Colab Notebooks/데이터사이언스 특론/실습/vocab.txt', do_basic_tokenize=False)"
      ]
    },
    {
      "cell_type": "code",
      "source": [
        "len(wordpiece_tokenizer.vocab)"
      ],
      "metadata": {
        "colab": {
          "base_uri": "https://localhost:8080/"
        },
        "id": "zh5T4_VJGS_V",
        "outputId": "c356d626-6ce9-4147-897b-1c2a2b088770"
      },
      "execution_count": 11,
      "outputs": [
        {
          "output_type": "execute_result",
          "data": {
            "text/plain": [
              "30000"
            ]
          },
          "metadata": {},
          "execution_count": 11
        }
      ]
    },
    {
      "cell_type": "markdown",
      "metadata": {
        "id": "4R-O6IpPM42H"
      },
      "source": [
        "##### tokenizer.encode(text)'s attributes\n",
        "* tokenizer.encode - index id\n",
        "* tokenizer.tokenize - splitted text tokens "
      ]
    },
    {
      "cell_type": "code",
      "execution_count": null,
      "metadata": {
        "id": "RwS54d4YVOn-"
      },
      "outputs": [],
      "source": [
        "wordpiece_tokenizer.encode(data['sentence_pair'].iloc[2])"
      ]
    },
    {
      "cell_type": "code",
      "execution_count": null,
      "metadata": {
        "id": "UhPZIku8NqqI"
      },
      "outputs": [],
      "source": [
        "wordpiece_tokenizer.tokenize(data['sentence_pair'].iloc[2])"
      ]
    },
    {
      "cell_type": "markdown",
      "metadata": {
        "id": "7QqgpA43VOjW"
      },
      "source": [
        "# Inputs"
      ]
    },
    {
      "cell_type": "markdown",
      "metadata": {
        "id": "wehTAmwxVOqQ"
      },
      "source": [
        "##### BERT's inputs\n",
        "* index tokens\n",
        "* segments\n",
        "* positions"
      ]
    },
    {
      "cell_type": "code",
      "execution_count": 11,
      "metadata": {
        "id": "rDyibQ8WQjcJ"
      },
      "outputs": [],
      "source": [
        "# index id\n",
        "def index_tokens(sentence, tokenizer):\n",
        "  return tokenizer.encode(sentence)"
      ]
    },
    {
      "cell_type": "code",
      "execution_count": 12,
      "metadata": {
        "id": "g7DhVKW1VOu7"
      },
      "outputs": [],
      "source": [
        "# segment id \n",
        "def segment_tokens(token_list, max_length):\n",
        "  segment = []\n",
        "  first_length = token_list.index(3)\n",
        "  second_length = max_length - first_length\n",
        "  segment.extend([0]*first_length)\n",
        "  segment.extend([1]*second_length)\n",
        "  return segment"
      ]
    },
    {
      "cell_type": "code",
      "execution_count": 13,
      "metadata": {
        "id": "gWistdjLVO12"
      },
      "outputs": [],
      "source": [
        "# position id\n",
        "def position_tokens(token_list, max_length):\n",
        "  position = [i for i in range(max_length)]\n",
        "  return position"
      ]
    },
    {
      "cell_type": "code",
      "execution_count": 14,
      "metadata": {
        "colab": {
          "base_uri": "https://localhost:8080/",
          "height": 0
        },
        "id": "0-0Fh0UpLpql",
        "outputId": "18543452-f0e6-4169-ae0b-75b4aaeb09ed"
      },
      "outputs": [
        {
          "output_type": "execute_result",
          "data": {
            "text/plain": [
              "                                       sentence_pair  is_next  \\\n",
              "0  정말로 도로침하 때문에 안전적으로 위험해서 전력선포설공사를 못하시게 하는 것이 맞나...        0   \n",
              "1   공무원이 국가, 국민돈을 먹튀했다면 그 값에서 1015의 범죄부가세를 도입하면 됩...        1   \n",
              "2  안녕하십니까, 2019학년도 수능 응시 예정인 고3 학생입니다 [SEP] 이 글은 ...        0   \n",
              "3  11 더 자세한 것은 대한민국의 여성인권단체/목록의 목차 중 한국여성민우회 항목 참...        1   \n",
              "4  예수의 원수사랑은 오지 로마에 한정되었을 따름이었다 [SEP] 예수가 원수를 사랑하...        1   \n",
              "\n",
              "                                            token_id  length  \n",
              "0  [2, 10322, 7769, 3844, 3621, 6955, 7088, 6796,...      39  \n",
              "1  [2, 9698, 1, 6770, 10731, 1287, 4657, 12600, 2...      45  \n",
              "2  [2, 1, 16689, 8170, 3620, 8619, 12244, 10958, ...      29  \n",
              "3  [2, 7159, 745, 15061, 6889, 7319, 1, 1331, 369...      47  \n",
              "4  [2, 25741, 3694, 16724, 18703, 3685, 13895, 11...      42  "
            ],
            "text/html": [
              "\n",
              "  <div id=\"df-301cda82-2c2b-4f29-bd44-381498819cc5\">\n",
              "    <div class=\"colab-df-container\">\n",
              "      <div>\n",
              "<style scoped>\n",
              "    .dataframe tbody tr th:only-of-type {\n",
              "        vertical-align: middle;\n",
              "    }\n",
              "\n",
              "    .dataframe tbody tr th {\n",
              "        vertical-align: top;\n",
              "    }\n",
              "\n",
              "    .dataframe thead th {\n",
              "        text-align: right;\n",
              "    }\n",
              "</style>\n",
              "<table border=\"1\" class=\"dataframe\">\n",
              "  <thead>\n",
              "    <tr style=\"text-align: right;\">\n",
              "      <th></th>\n",
              "      <th>sentence_pair</th>\n",
              "      <th>is_next</th>\n",
              "      <th>token_id</th>\n",
              "      <th>length</th>\n",
              "    </tr>\n",
              "  </thead>\n",
              "  <tbody>\n",
              "    <tr>\n",
              "      <th>0</th>\n",
              "      <td>정말로 도로침하 때문에 안전적으로 위험해서 전력선포설공사를 못하시게 하는 것이 맞나...</td>\n",
              "      <td>0</td>\n",
              "      <td>[2, 10322, 7769, 3844, 3621, 6955, 7088, 6796,...</td>\n",
              "      <td>39</td>\n",
              "    </tr>\n",
              "    <tr>\n",
              "      <th>1</th>\n",
              "      <td>공무원이 국가, 국민돈을 먹튀했다면 그 값에서 1015의 범죄부가세를 도입하면 됩...</td>\n",
              "      <td>1</td>\n",
              "      <td>[2, 9698, 1, 6770, 10731, 1287, 4657, 12600, 2...</td>\n",
              "      <td>45</td>\n",
              "    </tr>\n",
              "    <tr>\n",
              "      <th>2</th>\n",
              "      <td>안녕하십니까, 2019학년도 수능 응시 예정인 고3 학생입니다 [SEP] 이 글은 ...</td>\n",
              "      <td>0</td>\n",
              "      <td>[2, 1, 16689, 8170, 3620, 8619, 12244, 10958, ...</td>\n",
              "      <td>29</td>\n",
              "    </tr>\n",
              "    <tr>\n",
              "      <th>3</th>\n",
              "      <td>11 더 자세한 것은 대한민국의 여성인권단체/목록의 목차 중 한국여성민우회 항목 참...</td>\n",
              "      <td>1</td>\n",
              "      <td>[2, 7159, 745, 15061, 6889, 7319, 1, 1331, 369...</td>\n",
              "      <td>47</td>\n",
              "    </tr>\n",
              "    <tr>\n",
              "      <th>4</th>\n",
              "      <td>예수의 원수사랑은 오지 로마에 한정되었을 따름이었다 [SEP] 예수가 원수를 사랑하...</td>\n",
              "      <td>1</td>\n",
              "      <td>[2, 25741, 3694, 16724, 18703, 3685, 13895, 11...</td>\n",
              "      <td>42</td>\n",
              "    </tr>\n",
              "  </tbody>\n",
              "</table>\n",
              "</div>\n",
              "      <button class=\"colab-df-convert\" onclick=\"convertToInteractive('df-301cda82-2c2b-4f29-bd44-381498819cc5')\"\n",
              "              title=\"Convert this dataframe to an interactive table.\"\n",
              "              style=\"display:none;\">\n",
              "        \n",
              "  <svg xmlns=\"http://www.w3.org/2000/svg\" height=\"24px\"viewBox=\"0 0 24 24\"\n",
              "       width=\"24px\">\n",
              "    <path d=\"M0 0h24v24H0V0z\" fill=\"none\"/>\n",
              "    <path d=\"M18.56 5.44l.94 2.06.94-2.06 2.06-.94-2.06-.94-.94-2.06-.94 2.06-2.06.94zm-11 1L8.5 8.5l.94-2.06 2.06-.94-2.06-.94L8.5 2.5l-.94 2.06-2.06.94zm10 10l.94 2.06.94-2.06 2.06-.94-2.06-.94-.94-2.06-.94 2.06-2.06.94z\"/><path d=\"M17.41 7.96l-1.37-1.37c-.4-.4-.92-.59-1.43-.59-.52 0-1.04.2-1.43.59L10.3 9.45l-7.72 7.72c-.78.78-.78 2.05 0 2.83L4 21.41c.39.39.9.59 1.41.59.51 0 1.02-.2 1.41-.59l7.78-7.78 2.81-2.81c.8-.78.8-2.07 0-2.86zM5.41 20L4 18.59l7.72-7.72 1.47 1.35L5.41 20z\"/>\n",
              "  </svg>\n",
              "      </button>\n",
              "      \n",
              "  <style>\n",
              "    .colab-df-container {\n",
              "      display:flex;\n",
              "      flex-wrap:wrap;\n",
              "      gap: 12px;\n",
              "    }\n",
              "\n",
              "    .colab-df-convert {\n",
              "      background-color: #E8F0FE;\n",
              "      border: none;\n",
              "      border-radius: 50%;\n",
              "      cursor: pointer;\n",
              "      display: none;\n",
              "      fill: #1967D2;\n",
              "      height: 32px;\n",
              "      padding: 0 0 0 0;\n",
              "      width: 32px;\n",
              "    }\n",
              "\n",
              "    .colab-df-convert:hover {\n",
              "      background-color: #E2EBFA;\n",
              "      box-shadow: 0px 1px 2px rgba(60, 64, 67, 0.3), 0px 1px 3px 1px rgba(60, 64, 67, 0.15);\n",
              "      fill: #174EA6;\n",
              "    }\n",
              "\n",
              "    [theme=dark] .colab-df-convert {\n",
              "      background-color: #3B4455;\n",
              "      fill: #D2E3FC;\n",
              "    }\n",
              "\n",
              "    [theme=dark] .colab-df-convert:hover {\n",
              "      background-color: #434B5C;\n",
              "      box-shadow: 0px 1px 3px 1px rgba(0, 0, 0, 0.15);\n",
              "      filter: drop-shadow(0px 1px 2px rgba(0, 0, 0, 0.3));\n",
              "      fill: #FFFFFF;\n",
              "    }\n",
              "  </style>\n",
              "\n",
              "      <script>\n",
              "        const buttonEl =\n",
              "          document.querySelector('#df-301cda82-2c2b-4f29-bd44-381498819cc5 button.colab-df-convert');\n",
              "        buttonEl.style.display =\n",
              "          google.colab.kernel.accessAllowed ? 'block' : 'none';\n",
              "\n",
              "        async function convertToInteractive(key) {\n",
              "          const element = document.querySelector('#df-301cda82-2c2b-4f29-bd44-381498819cc5');\n",
              "          const dataTable =\n",
              "            await google.colab.kernel.invokeFunction('convertToInteractive',\n",
              "                                                     [key], {});\n",
              "          if (!dataTable) return;\n",
              "\n",
              "          const docLinkHtml = 'Like what you see? Visit the ' +\n",
              "            '<a target=\"_blank\" href=https://colab.research.google.com/notebooks/data_table.ipynb>data table notebook</a>'\n",
              "            + ' to learn more about interactive tables.';\n",
              "          element.innerHTML = '';\n",
              "          dataTable['output_type'] = 'display_data';\n",
              "          await google.colab.output.renderOutput(dataTable, element);\n",
              "          const docLink = document.createElement('div');\n",
              "          docLink.innerHTML = docLinkHtml;\n",
              "          element.appendChild(docLink);\n",
              "        }\n",
              "      </script>\n",
              "    </div>\n",
              "  </div>\n",
              "  "
            ]
          },
          "metadata": {},
          "execution_count": 14
        }
      ],
      "source": [
        "data['token_id'] = data.sentence_pair.apply(lambda x: index_tokens(x, wordpiece_tokenizer))\n",
        "data['length'] = data.token_id.apply(lambda x: len(x))\n",
        "# data['segment'] = data.token_id.apply(segment_tokens)\n",
        "# data['position'] = data.token_id.apply(position_tokens)\n",
        "data.head()"
      ]
    },
    {
      "cell_type": "markdown",
      "metadata": {
        "id": "e-iWG174t1E5"
      },
      "source": [
        "##### masked language model"
      ]
    },
    {
      "cell_type": "code",
      "execution_count": 15,
      "metadata": {
        "id": "OnGot3UPVO62"
      },
      "outputs": [],
      "source": [
        "import math\n",
        "import random\n",
        "from copy import deepcopy\n",
        "\n",
        "def masked_LM(token_list, max_length):\n",
        "  token_list_copy = deepcopy(token_list)\n",
        "  total_length = len(token_list) \n",
        "  num_mask = int(total_length*0.15) \n",
        "  len_vocab = 30000\n",
        "\n",
        "  # 전체 길이 중 15%의 토큰 선정\n",
        "  masked_index = []\n",
        "  while True:\n",
        "    idx = random.randint(1,total_length-1) # [CLS], [SEP] 제외\n",
        "    if (idx not in masked_index) and token_list[idx] != 3:\n",
        "      masked_index.append(idx)\n",
        "    if len(masked_index) == num_mask:\n",
        "      break\n",
        "  masked_index = sorted(masked_index)\n",
        "  masked_index_copy = deepcopy(masked_index)\n",
        "  num_random = int(round(num_mask*0.1))\n",
        "\n",
        "  # 15% 중 80%를 masked 토큰으로\n",
        "  num_masked = int(round(num_mask*0.8)) \n",
        "  masked_tokens = random.sample(masked_index_copy, num_masked) \n",
        "  for tokens in masked_tokens:\n",
        "    token_list_copy[tokens] = 4\n",
        "    masked_index_copy.remove(tokens)\n",
        "\n",
        "  # 15% 중 10%를 random 토큰으로\n",
        "  num_random = int(math.ceil(len(masked_index_copy)/2)) # 남은 토큰의 절반\n",
        "  random_tokens = random.sample(masked_index_copy, num_random) \n",
        "  for tokens in random_tokens:\n",
        "    token_list_copy[tokens] = random.randint(5, len_vocab) # special token 제외\n",
        "\n",
        "  masked_label = []\n",
        "  for i in range(len(token_list)):\n",
        "    if i in masked_index:\n",
        "      masked_label.append(token_list[i])\n",
        "    else:\n",
        "      masked_label.append(-1)\n",
        "\n",
        "  # padding\n",
        "  masked_label_output = masked_label + [-1]*(max_length - len(masked_label))\n",
        "  token_list_copy_output = token_list_copy + [0]*(max_length - len(token_list_copy))\n",
        "\n",
        "  return [token_list_copy_output, masked_label_output]"
      ]
    },
    {
      "cell_type": "code",
      "execution_count": 16,
      "metadata": {
        "id": "868S_b5svIzX"
      },
      "outputs": [],
      "source": [
        "from torch.utils.data import Dataset\n",
        "\n",
        "class BertDataset(Dataset):\n",
        "    def __init__(self, data, tokenizer, max_length):\n",
        "      self.bert_data = data.loc[(data.length >= 15) & (data.length <= max_length)]\n",
        "      self.token_ids = self.bert_data.token_id.to_list()\n",
        "      self.segment_ids = [segment_tokens(segment_token, max_length) for segment_token in self.token_ids]\n",
        "      self.position_ids = [position_tokens(position_token, max_length) for position_token in self.token_ids]\n",
        "      self.masekd_token_id_label = [masked_LM(t, max_length) for t in self.token_ids]\n",
        "#      self.label_masked = [masked_LM(m, max_length)[1] for m in self.token_ids]\n",
        "      self.is_next_label = self.bert_data.is_next.to_list()\n",
        "\n",
        "    def __len__(self):\n",
        "      return len(self.token_ids)\n",
        "\n",
        "    def __getitem__(self, idx):\n",
        "      return [self.token_ids[idx],   # 실제 token id\n",
        "              self.segment_ids[idx],    # segment id(문장 구별)\n",
        "              self.position_ids[idx],   # 위치 값\n",
        "              self.masekd_token_id_label[idx][0],    # masking 적용된 token id\n",
        "              self.masekd_token_id_label[idx][1],    # mlm task label\n",
        "              [self.is_next_label[idx]]    # nsp task label\n",
        "              ]\n"
      ]
    },
    {
      "cell_type": "code",
      "execution_count": 17,
      "metadata": {
        "id": "M1cQrNtYvI1t"
      },
      "outputs": [],
      "source": [
        "bert_data = BertDataset(data, wordpiece_tokenizer, 150)"
      ]
    },
    {
      "cell_type": "markdown",
      "metadata": {
        "id": "M5lvN6hy2Ayv"
      },
      "source": [
        "### dataloader"
      ]
    },
    {
      "cell_type": "code",
      "execution_count": 18,
      "metadata": {
        "id": "bfN-HXuJ2DCm"
      },
      "outputs": [],
      "source": [
        "from torch.nn.utils.rnn import pad_sequence\n",
        "from torch.utils.data import DataLoader\n",
        "import torch\n",
        "\n",
        "def collate_fn(batch):\n",
        "  segment_ids = torch.tensor([b[1] for b in batch])\n",
        "  position_ids =torch.tensor([b[2] for b in batch])\n",
        "  token_id_masked = torch.tensor([b[3] for b in batch])\n",
        "  label_masked = torch.tensor([b[4] for b in batch])\n",
        "  is_next_label = torch.tensor([b[5] for b in batch])\n",
        "  return  segment_ids, position_ids, token_id_masked, label_masked, is_next_label\n",
        "\n",
        "input_dataloader = DataLoader(bert_data, collate_fn=collate_fn, batch_size=64)"
      ]
    },
    {
      "cell_type": "code",
      "execution_count": 19,
      "metadata": {
        "id": "cMYjejUfCQmp",
        "colab": {
          "base_uri": "https://localhost:8080/"
        },
        "outputId": "81f31cce-d0a2-4109-b81c-f3003a293deb"
      },
      "outputs": [
        {
          "output_type": "execute_result",
          "data": {
            "text/plain": [
              "torch.Size([64, 150])"
            ]
          },
          "metadata": {},
          "execution_count": 19
        }
      ],
      "source": [
        "next(iter(input_dataloader))[0].size()"
      ]
    },
    {
      "cell_type": "markdown",
      "metadata": {
        "id": "ZWriYEDiSLLY"
      },
      "source": [
        "# Model"
      ]
    },
    {
      "cell_type": "markdown",
      "metadata": {
        "id": "oxUoJVqUo7H-"
      },
      "source": [
        "## scaled dot product\n"
      ]
    },
    {
      "cell_type": "code",
      "source": [
        "from torch import nn"
      ],
      "metadata": {
        "id": "0DXo7QQuy0FK"
      },
      "execution_count": 20,
      "outputs": []
    },
    {
      "cell_type": "code",
      "execution_count": 21,
      "metadata": {
        "id": "lK1SW9AVomJa"
      },
      "outputs": [],
      "source": [
        "class scaled_dot_product(nn.Module):\n",
        "  def __init__(self):\n",
        "    super(scaled_dot_product, self).__init__()\n",
        "    self.softmax = nn.Softmax(dim=-1)\n",
        "\n",
        "  def forward(self, query, key, value, mask, masked):\n",
        "    key_tr = torch.transpose(key, 2, 3).contiguous()\n",
        "    dk = torch.tensor(query.size()[-1])\n",
        "    outputs = (query @ key_tr) / dk.sqrt()\n",
        "\n",
        "    if mask is not None:\n",
        "      outputs = outputs.masked_fill(mask == 0, -2**30)\n",
        "\n",
        "    if masked:\n",
        "      mask1 = torch.ones_like(outputs[:,:,:])\n",
        "      mask1 = torch.triu(mask1, diagonal=1)\n",
        "      mask1 = mask1*(-2**30)\n",
        "      padding = torch.ones_like(mask1)\n",
        "      padding = torch.tril(padding)\n",
        "      outputs = torch.where(padding==1, outputs, mask1)\n",
        "\n",
        "    attention_map = self.softmax(outputs)\n",
        "    scaled_dp = (attention_map @ value)\n",
        "    return scaled_dp, attention_map"
      ]
    },
    {
      "cell_type": "markdown",
      "metadata": {
        "id": "5KGz8Gv_JHCR"
      },
      "source": [
        "## multihead attention"
      ]
    },
    {
      "cell_type": "code",
      "execution_count": 22,
      "metadata": {
        "id": "UWEWQs2iqNrs"
      },
      "outputs": [],
      "source": [
        "class multihead_attention(nn.Module):\n",
        "  def __init__(self, embedding_dims, model_dims, num_heads):\n",
        "    super(multihead_attention, self).__init__()\n",
        "\n",
        "    self.num_heads = num_heads\n",
        "    self.linear_q = nn.Linear(embedding_dims, model_dims)\n",
        "    self.linear_k = nn.Linear(embedding_dims, model_dims)\n",
        "    self.linear_v = nn.Linear(embedding_dims, model_dims)\n",
        "    self.linear_output = nn.Linear(model_dims, model_dims)\n",
        "    self.attention = scaled_dot_product()\n",
        "\n",
        "  def split(self, tensor):\n",
        "    batch_size, sequence_length, d_model = tensor.size()\n",
        "\n",
        "    d_tensor = d_model // self.num_heads\n",
        "    tensor = tensor.view(batch_size, sequence_length, self.num_heads, d_tensor).transpose(1, 2).contiguous()\n",
        "    return tensor\n",
        "\n",
        "  def cat(self, tensor):\n",
        "    batch_size, self.num_heads, sequence_length, d_tensor = tensor.size()\n",
        "    d_model = self.num_heads * d_tensor\n",
        "\n",
        "    tensor = tensor.transpose(1, 2).contiguous().view(batch_size, sequence_length, d_model).contiguous()\n",
        "    return tensor\n",
        "\n",
        "  def forward(self, query, key, value, mask, masked):\n",
        "    query1 = self.linear_q(query)\n",
        "    key1 = self.linear_k(key)\n",
        "    value1 = self.linear_v(value)\n",
        "\n",
        "    query_split = self.split(query1)\n",
        "    key_split = self.split(key1)\n",
        "    value_split = self.split(value1)\n",
        "\n",
        "    multihead_attn, attn_map = self.attention(query_split, key_split, value_split, mask, masked)\n",
        "    attn_outputs1 = self.cat(multihead_attn)\n",
        "    attn_outputs2 = self.linear_output(attn_outputs1)\n",
        "    return attn_outputs2"
      ]
    },
    {
      "cell_type": "markdown",
      "metadata": {
        "id": "7kyWOQfjKVuk"
      },
      "source": [
        "## feed forward "
      ]
    },
    {
      "cell_type": "code",
      "execution_count": 23,
      "metadata": {
        "id": "JfXcuhGTyX4o"
      },
      "outputs": [],
      "source": [
        "class feed_forward(nn.Module):\n",
        "  def __init__(self, model_dims, ff_dims):\n",
        "    super(feed_forward, self).__init__()\n",
        "    self.dropout_p = 0.1\n",
        "    self.linear_inner = nn.Linear(model_dims, ff_dims)\n",
        "    self.linear_outer = nn.Linear(ff_dims, model_dims)\n",
        "    self.relu = nn.ReLU()\n",
        "    self.dropout = nn.Dropout(p=self.dropout_p)\n",
        "\n",
        "  def forward(self, input):\n",
        "    output1 = self.linear_inner(input)\n",
        "    output2 = self.relu(output1)\n",
        "    output3 = self.dropout(output2)\n",
        "    output4 = self.linear_outer(output3)\n",
        "    return output4\n"
      ]
    },
    {
      "cell_type": "markdown",
      "metadata": {
        "id": "tdAGlhFrKYNb"
      },
      "source": [
        "## layer norm"
      ]
    },
    {
      "cell_type": "code",
      "execution_count": 24,
      "metadata": {
        "id": "nwI6jVfIz35u"
      },
      "outputs": [],
      "source": [
        "class layer_norm(nn.Module):\n",
        "  def __init__(self, model_dims, eps=1e-6):\n",
        "    super(layer_norm, self).__init__()\n",
        "    self.layernorm = nn.LayerNorm(model_dims)\n",
        "\n",
        "  def forward(self, input):\n",
        "    output = self.layernorm(input)\n",
        "    return output"
      ]
    },
    {
      "cell_type": "markdown",
      "metadata": {
        "id": "I3Q-9-uLKbED"
      },
      "source": [
        "## sublayer connection"
      ]
    },
    {
      "cell_type": "code",
      "execution_count": 25,
      "metadata": {
        "id": "XXNCKoma0kK0"
      },
      "outputs": [],
      "source": [
        "class sublayer_connection(nn.Module):\n",
        "  def __init__(self, model_dims, dropout_p):\n",
        "    super(sublayer_connection, self).__init__()\n",
        "    self.layernorm = layer_norm(model_dims)\n",
        "    self.dropout = nn.Dropout(dropout_p)\n",
        "\n",
        "  def forward(self, input, output):\n",
        "    outputs = self.layernorm(input + self.dropout(output))\n",
        "    return outputs"
      ]
    },
    {
      "cell_type": "markdown",
      "metadata": {
        "id": "-D7BYSLxKdsD"
      },
      "source": [
        "## encoder module"
      ]
    },
    {
      "cell_type": "code",
      "execution_count": 26,
      "metadata": {
        "id": "Go0ZHvRkC8tX"
      },
      "outputs": [],
      "source": [
        "class encoder_module(nn.Module):\n",
        "  def __init__(self, model_dims, ff_dims, dropout_p, embedding_dims, num_heads):\n",
        "    super(encoder_module, self).__init__()\n",
        "    self.multiheadattention_en = multihead_attention(embedding_dims, model_dims, num_heads)\n",
        "    self.feedforward = feed_forward(model_dims, ff_dims)\n",
        "    self.sublayerconnection1 = sublayer_connection(model_dims, dropout_p)\n",
        "    self.sublayerconnection2 = sublayer_connection(model_dims, dropout_p)\n",
        "\n",
        "  def forward(self, encoder_inputs, mask):\n",
        "    multihead_a = self.sublayerconnection1(encoder_inputs, self.multiheadattention_en(encoder_inputs, encoder_inputs, encoder_inputs, mask, masked=False))\n",
        "    outputs = self.sublayerconnection2(multihead_a, self.feedforward(multihead_a))\n",
        "    return outputs"
      ]
    },
    {
      "cell_type": "markdown",
      "metadata": {
        "id": "lWWYvML_Kh8s"
      },
      "source": [
        "## encoder"
      ]
    },
    {
      "cell_type": "code",
      "execution_count": 27,
      "metadata": {
        "id": "Fbz_PMFGF_-j"
      },
      "outputs": [],
      "source": [
        "class encoder(nn.Module):\n",
        "  def __init__(self, model_dims, ff_dims, num_heads, num_layers, embedding_dims, len_vocab, dropout_p, max_length):\n",
        "    super(encoder, self).__init__()\n",
        "    self.embedding_tokens = nn.Embedding(len_vocab+1, embedding_dims)\n",
        "    self.embedding_segments = nn.Embedding(2, embedding_dims)\n",
        "    self.embedding_position = nn.Embedding(max_length, embedding_dims)\n",
        "    self.encoder_layer = nn.ModuleList([encoder_module(model_dims = model_dims,\n",
        "                                                       ff_dims = ff_dims,\n",
        "                                                       num_heads = num_heads,\n",
        "                                                       dropout_p=dropout_p,\n",
        "                                                       embedding_dims = embedding_dims)\n",
        "                                        for _ in range(num_layers)])\n",
        "    \n",
        "\n",
        "  def forward(self, input_tokens, segment_tokens, position_tokens, mask):\n",
        "    encoder_inputs = self.embedding_tokens(input_tokens) + self.embedding_segments(segment_tokens) + self.embedding_position(position_tokens)\n",
        "    outputs = encoder_inputs\n",
        "    for layer in self.encoder_layer:\n",
        "      outputs = layer(outputs, mask)\n",
        "    return outputs\n",
        "    "
      ]
    },
    {
      "cell_type": "markdown",
      "metadata": {
        "id": "MfnCP3RjLMW6"
      },
      "source": [
        "## MLM layer"
      ]
    },
    {
      "cell_type": "code",
      "execution_count": 28,
      "metadata": {
        "id": "GD_C-0uyLNAq"
      },
      "outputs": [],
      "source": [
        "class mlm_layer(nn.Module):\n",
        "  def __init__(self, model_dims, len_vocab):\n",
        "    super(mlm_layer, self).__init__()\n",
        "    self.layer1 = nn.Linear(model_dims, model_dims)\n",
        "    self.layer2 = nn.Linear(model_dims, len_vocab)\n",
        "    self.layernorm = layer_norm(model_dims)\n",
        "    self.relu = nn.ReLU()\n",
        "\n",
        "  def forward(self, inputs):\n",
        "    outputs = self.layer1(inputs)\n",
        "    outputs = self.relu(outputs)\n",
        "    outputs = self.layernorm(outputs)\n",
        "    outputs = self.layer2(outputs)\n",
        "    return outputs"
      ]
    },
    {
      "cell_type": "markdown",
      "metadata": {
        "id": "KtzSfE8LKlJU"
      },
      "source": [
        "## BERT"
      ]
    },
    {
      "cell_type": "code",
      "execution_count": 29,
      "metadata": {
        "id": "QgpUOfDxKovk"
      },
      "outputs": [],
      "source": [
        "class BERT(nn.Module):\n",
        "  def __init__(self, model_dims, ff_dims, num_heads, num_layers, embedding_dims, len_vocab, dropout_p, src_pad_idx, max_length):\n",
        "    super(BERT, self).__init__()\n",
        "    self.src_pad_idx = src_pad_idx\n",
        "    self.encoder = encoder(model_dims, ff_dims, num_heads, num_layers, embedding_dims, len_vocab, dropout_p, max_length)\n",
        "    self.mlmlayer = mlm_layer(model_dims, len_vocab)\n",
        "    self.nsp_layer = nn.Linear(model_dims, 2)\n",
        "    self.activation = torch.tanh\n",
        "\n",
        "  def forward(self, input_tokens, segment_tokens, position_tokens):\n",
        "    encoder_mask = self.make_pad_mask(input_tokens, input_tokens)\n",
        "    encoder_outputs = self.encoder(input_tokens, segment_tokens, position_tokens, encoder_mask)\n",
        "    cls = self.activation(self.nsp_layer(encoder_outputs[:,1,:].contiguous()))\n",
        "    mlm = self.mlmlayer(encoder_outputs)\n",
        "    return cls, mlm\n",
        "\n",
        "  def make_pad_mask(self,q,k):\n",
        "    len_q,len_k = q.size(1),k.size(1)\n",
        "    k = k.ne(self.src_pad_idx).unsqueeze(1).unsqueeze(2)\n",
        "    k = k.repeat(1,1,len_q,1)\n",
        "    q = q.ne(self.src_pad_idx).unsqueeze(1).unsqueeze(3)\n",
        "    q = q.repeat(1,1,1,len_k)\n",
        "    mask = k & q\n",
        "    return mask\n"
      ]
    },
    {
      "cell_type": "markdown",
      "metadata": {
        "id": "aPAkUkwfSLPn"
      },
      "source": [
        "# training"
      ]
    },
    {
      "cell_type": "code",
      "execution_count": 30,
      "metadata": {
        "colab": {
          "base_uri": "https://localhost:8080/"
        },
        "id": "-7FqkyJ5OFW0",
        "outputId": "6086db75-b14f-40c8-ec64-7cebbcb7650c"
      },
      "outputs": [
        {
          "output_type": "stream",
          "name": "stdout",
          "text": [
            "cuda\n"
          ]
        }
      ],
      "source": [
        "device = torch.device(\"cuda\") if torch.cuda.is_available() else torch.device(\"cpu\")\n",
        "print(device)"
      ]
    },
    {
      "cell_type": "code",
      "execution_count": 31,
      "metadata": {
        "id": "tbehpVb2O1hz"
      },
      "outputs": [],
      "source": [
        "# model_dims, ff_dims, num_heads, num_layers, embedding_dims, len_vocab, dropout_p, src_pad_idx, max_length\n",
        "bert_model = BERT(150, 150, 3, 3, 150, 30000, 0.1, 0, 150).to(device)"
      ]
    },
    {
      "cell_type": "code",
      "execution_count": 32,
      "metadata": {
        "id": "EDONzrCHSXBS"
      },
      "outputs": [],
      "source": [
        "epochs = 5\n",
        "lr = 1e-4\n",
        "optimizer = torch.optim.Adam(bert_model.parameters(), lr=lr, weight_decay=0.01)\n",
        "criterion_mlm = nn.CrossEntropyLoss(ignore_index=-1)\n",
        "criterion_cls = nn.CrossEntropyLoss()"
      ]
    },
    {
      "cell_type": "code",
      "execution_count": 33,
      "metadata": {
        "id": "EWXUpwePSXBS"
      },
      "outputs": [],
      "source": [
        "def train(model, optimizer, criterion1, criterion2, dataloader):\n",
        "  losses = [] \n",
        "  for i, data in enumerate(dataloader):\n",
        "    optimizer.zero_grad()\n",
        "\n",
        "    segment_ids, position_ids, token_id_masked, label_masked, is_next_label = data\n",
        "\n",
        "    segment_ids = segment_ids.to(device)\n",
        "    position_ids = position_ids.to(device)\n",
        "    token_id_masked = token_id_masked.to(device)\n",
        "    label_masked = label_masked.to(device)\n",
        "    is_next_label = is_next_label.to(device)\n",
        "\n",
        "    cls_logits, mlm_logits = model(token_id_masked, segment_ids, position_ids)\n",
        "    loss_cls = criterion1(cls_logits, is_next_label.squeeze())\n",
        "    loss_mlm = criterion2(mlm_logits.transpose(1, 2), label_masked)\n",
        "    loss = loss_cls + loss_mlm\n",
        "    losses.append(loss.item())\n",
        "    \n",
        "    loss.backward()\n",
        "    optimizer.step()\n",
        "    if i % 100 == 0:\n",
        "      print('batch = ', i, ' loss = ', sum(losses) / len(losses))\n",
        "  return sum(losses) / len(losses)\n",
        "\n"
      ]
    },
    {
      "cell_type": "code",
      "execution_count": 34,
      "metadata": {
        "id": "4gq79-GESXBS",
        "colab": {
          "base_uri": "https://localhost:8080/",
          "height": 1000
        },
        "outputId": "9e51450c-ffb9-4f85-dbf0-03f72a9d1d6e"
      },
      "outputs": [
        {
          "output_type": "stream",
          "name": "stdout",
          "text": [
            "batch =  0  loss =  11.16948127746582\n",
            "batch =  100  loss =  10.977680952242105\n",
            "batch =  200  loss =  10.80120294959984\n",
            "batch =  300  loss =  10.650647093687343\n",
            "batch =  400  loss =  10.527114309277618\n",
            "batch =  500  loss =  10.430378525556918\n",
            "batch =  600  loss =  10.352009100445892\n",
            "batch =  700  loss =  10.288632622799078\n",
            "batch =  800  loss =  10.236796348133636\n",
            "batch =  900  loss =  10.194970320385119\n",
            "batch =  1000  loss =  10.158831773580728\n",
            "batch =  1100  loss =  10.128700897327668\n",
            "batch =  1200  loss =  10.103612844989659\n",
            "batch =  1300  loss =  10.080373827811849\n",
            "batch =  1400  loss =  10.060018546235808\n",
            "batch =  1500  loss =  10.043376201474612\n",
            "batch =  1600  loss =  10.02808511115699\n",
            "batch =  1700  loss =  10.014936727471103\n",
            "batch =  1800  loss =  10.003332691415027\n",
            "batch =  1900  loss =  9.992277964110878\n",
            "batch =  2000  loss =  9.982355090155117\n",
            "batch =  2100  loss =  9.973446166498329\n",
            "batch =  2200  loss =  9.964543417983032\n",
            "batch =  2300  loss =  9.956702862755726\n",
            "batch =  2400  loss =  9.94990781762609\n",
            "batch =  2500  loss =  9.943701237309032\n",
            "batch =  2600  loss =  9.938070380472302\n",
            "batch =  2700  loss =  9.933029613685537\n",
            "batch =  2800  loss =  9.92813210519711\n",
            "batch =  2900  loss =  9.922492744264336\n",
            "batch =  3000  loss =  9.91890683026363\n",
            "batch =  3100  loss =  9.914436245302891\n",
            "batch =  3200  loss =  9.910681442110585\n",
            "batch =  3300  loss =  9.906434398606054\n",
            "batch =  3400  loss =  9.902812509668536\n"
          ]
        },
        {
          "output_type": "error",
          "ename": "KeyboardInterrupt",
          "evalue": "ignored",
          "traceback": [
            "\u001b[0;31m---------------------------------------------------------------------------\u001b[0m",
            "\u001b[0;31mKeyboardInterrupt\u001b[0m                         Traceback (most recent call last)",
            "\u001b[0;32m<ipython-input-34-d9b01d9ee5f7>\u001b[0m in \u001b[0;36m<module>\u001b[0;34m\u001b[0m\n\u001b[1;32m      1\u001b[0m \u001b[0;32mfor\u001b[0m \u001b[0mi\u001b[0m \u001b[0;32min\u001b[0m \u001b[0mrange\u001b[0m\u001b[0;34m(\u001b[0m\u001b[0mepochs\u001b[0m\u001b[0;34m)\u001b[0m\u001b[0;34m:\u001b[0m\u001b[0;34m\u001b[0m\u001b[0;34m\u001b[0m\u001b[0m\n\u001b[0;32m----> 2\u001b[0;31m   \u001b[0mavg_loss\u001b[0m \u001b[0;34m=\u001b[0m \u001b[0mtrain\u001b[0m\u001b[0;34m(\u001b[0m\u001b[0mbert_model\u001b[0m\u001b[0;34m,\u001b[0m \u001b[0moptimizer\u001b[0m\u001b[0;34m,\u001b[0m \u001b[0mcriterion_cls\u001b[0m\u001b[0;34m,\u001b[0m \u001b[0mcriterion_mlm\u001b[0m\u001b[0;34m,\u001b[0m \u001b[0minput_dataloader\u001b[0m\u001b[0;34m)\u001b[0m\u001b[0;34m\u001b[0m\u001b[0;34m\u001b[0m\u001b[0m\n\u001b[0m\u001b[1;32m      3\u001b[0m   \u001b[0mprint\u001b[0m\u001b[0;34m(\u001b[0m\u001b[0;34m'epoch = '\u001b[0m\u001b[0;34m,\u001b[0m \u001b[0mi\u001b[0m\u001b[0;34m,\u001b[0m \u001b[0;34m' avg_loss = '\u001b[0m\u001b[0;34m,\u001b[0m \u001b[0mavg_loss\u001b[0m\u001b[0;34m)\u001b[0m\u001b[0;34m\u001b[0m\u001b[0;34m\u001b[0m\u001b[0m\n",
            "\u001b[0;32m<ipython-input-33-7c77e8262529>\u001b[0m in \u001b[0;36mtrain\u001b[0;34m(model, optimizer, criterion1, criterion2, dataloader)\u001b[0m\n\u001b[1;32m     18\u001b[0m     \u001b[0mlosses\u001b[0m\u001b[0;34m.\u001b[0m\u001b[0mappend\u001b[0m\u001b[0;34m(\u001b[0m\u001b[0mloss\u001b[0m\u001b[0;34m.\u001b[0m\u001b[0mitem\u001b[0m\u001b[0;34m(\u001b[0m\u001b[0;34m)\u001b[0m\u001b[0;34m)\u001b[0m\u001b[0;34m\u001b[0m\u001b[0;34m\u001b[0m\u001b[0m\n\u001b[1;32m     19\u001b[0m \u001b[0;34m\u001b[0m\u001b[0m\n\u001b[0;32m---> 20\u001b[0;31m     \u001b[0mloss\u001b[0m\u001b[0;34m.\u001b[0m\u001b[0mbackward\u001b[0m\u001b[0;34m(\u001b[0m\u001b[0;34m)\u001b[0m\u001b[0;34m\u001b[0m\u001b[0;34m\u001b[0m\u001b[0m\n\u001b[0m\u001b[1;32m     21\u001b[0m     \u001b[0moptimizer\u001b[0m\u001b[0;34m.\u001b[0m\u001b[0mstep\u001b[0m\u001b[0;34m(\u001b[0m\u001b[0;34m)\u001b[0m\u001b[0;34m\u001b[0m\u001b[0;34m\u001b[0m\u001b[0m\n\u001b[1;32m     22\u001b[0m     \u001b[0;32mif\u001b[0m \u001b[0mi\u001b[0m \u001b[0;34m%\u001b[0m \u001b[0;36m100\u001b[0m \u001b[0;34m==\u001b[0m \u001b[0;36m0\u001b[0m\u001b[0;34m:\u001b[0m\u001b[0;34m\u001b[0m\u001b[0;34m\u001b[0m\u001b[0m\n",
            "\u001b[0;32m/usr/local/lib/python3.8/dist-packages/torch/_tensor.py\u001b[0m in \u001b[0;36mbackward\u001b[0;34m(self, gradient, retain_graph, create_graph, inputs)\u001b[0m\n\u001b[1;32m    486\u001b[0m                 \u001b[0minputs\u001b[0m\u001b[0;34m=\u001b[0m\u001b[0minputs\u001b[0m\u001b[0;34m,\u001b[0m\u001b[0;34m\u001b[0m\u001b[0;34m\u001b[0m\u001b[0m\n\u001b[1;32m    487\u001b[0m             )\n\u001b[0;32m--> 488\u001b[0;31m         torch.autograd.backward(\n\u001b[0m\u001b[1;32m    489\u001b[0m             \u001b[0mself\u001b[0m\u001b[0;34m,\u001b[0m \u001b[0mgradient\u001b[0m\u001b[0;34m,\u001b[0m \u001b[0mretain_graph\u001b[0m\u001b[0;34m,\u001b[0m \u001b[0mcreate_graph\u001b[0m\u001b[0;34m,\u001b[0m \u001b[0minputs\u001b[0m\u001b[0;34m=\u001b[0m\u001b[0minputs\u001b[0m\u001b[0;34m\u001b[0m\u001b[0;34m\u001b[0m\u001b[0m\n\u001b[1;32m    490\u001b[0m         )\n",
            "\u001b[0;32m/usr/local/lib/python3.8/dist-packages/torch/autograd/__init__.py\u001b[0m in \u001b[0;36mbackward\u001b[0;34m(tensors, grad_tensors, retain_graph, create_graph, grad_variables, inputs)\u001b[0m\n\u001b[1;32m    195\u001b[0m     \u001b[0;31m# some Python versions print out the first line of a multi-line function\u001b[0m\u001b[0;34m\u001b[0m\u001b[0;34m\u001b[0m\u001b[0;34m\u001b[0m\u001b[0m\n\u001b[1;32m    196\u001b[0m     \u001b[0;31m# calls in the traceback and some print out the last line\u001b[0m\u001b[0;34m\u001b[0m\u001b[0;34m\u001b[0m\u001b[0;34m\u001b[0m\u001b[0m\n\u001b[0;32m--> 197\u001b[0;31m     Variable._execution_engine.run_backward(  # Calls into the C++ engine to run the backward pass\n\u001b[0m\u001b[1;32m    198\u001b[0m         \u001b[0mtensors\u001b[0m\u001b[0;34m,\u001b[0m \u001b[0mgrad_tensors_\u001b[0m\u001b[0;34m,\u001b[0m \u001b[0mretain_graph\u001b[0m\u001b[0;34m,\u001b[0m \u001b[0mcreate_graph\u001b[0m\u001b[0;34m,\u001b[0m \u001b[0minputs\u001b[0m\u001b[0;34m,\u001b[0m\u001b[0;34m\u001b[0m\u001b[0;34m\u001b[0m\u001b[0m\n\u001b[1;32m    199\u001b[0m         allow_unreachable=True, accumulate_grad=True)  # Calls into the C++ engine to run the backward pass\n",
            "\u001b[0;31mKeyboardInterrupt\u001b[0m: "
          ]
        }
      ],
      "source": [
        "for i in range(epochs):\n",
        "  avg_loss = train(bert_model, optimizer, criterion_cls, criterion_mlm, input_dataloader)\n",
        "  print('epoch = ', i, ' avg_loss = ', avg_loss)"
      ]
    },
    {
      "cell_type": "code",
      "source": [],
      "metadata": {
        "id": "Vg5Yl3T64shh"
      },
      "execution_count": null,
      "outputs": []
    }
  ],
  "metadata": {
    "colab": {
      "collapsed_sections": [
        "YKpnANVbIu92",
        "ZWriYEDiSLLY",
        "oxUoJVqUo7H-",
        "5KGz8Gv_JHCR"
      ],
      "machine_shape": "hm",
      "provenance": []
    },
    "gpuClass": "standard",
    "kernelspec": {
      "display_name": "Python 3",
      "name": "python3"
    },
    "language_info": {
      "name": "python"
    },
    "accelerator": "GPU"
  },
  "nbformat": 4,
  "nbformat_minor": 0
}